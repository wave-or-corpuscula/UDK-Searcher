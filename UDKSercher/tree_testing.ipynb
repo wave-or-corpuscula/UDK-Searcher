{
 "cells": [
  {
   "cell_type": "code",
   "execution_count": 7,
   "metadata": {},
   "outputs": [],
   "source": [
    "from anytree import Node, RenderTree\n",
    "from anytree.exporter import JsonExporter\n",
    "from anytree.importer import JsonImporter"
   ]
  },
  {
   "cell_type": "code",
   "execution_count": 33,
   "metadata": {},
   "outputs": [
    {
     "ename": "ImportError",
     "evalue": "attempted relative import with no known parent package",
     "output_type": "error",
     "traceback": [
      "\u001b[0;31m---------------------------------------------------------------------------\u001b[0m",
      "\u001b[0;31mImportError\u001b[0m                               Traceback (most recent call last)",
      "Cell \u001b[0;32mIn[33], line 1\u001b[0m\n\u001b[0;32m----> 1\u001b[0m \u001b[39mfrom\u001b[39;00m \u001b[39m.\u001b[39;00m\u001b[39m.\u001b[39;00m other\u001b[39m.\u001b[39mUDKClass \u001b[39mimport\u001b[39;00m \u001b[39mUDK\u001b[39;00m\n",
      "\u001b[0;31mImportError\u001b[0m: attempted relative import with no known parent package"
     ]
    }
   ],
   "source": [
    "from other.UDKClass import UDK"
   ]
  },
  {
   "cell_type": "code",
   "execution_count": 3,
   "metadata": {},
   "outputs": [],
   "source": [
    "udo = Node(\"Udo\")\n",
    "marc = Node({\"hello\": 1}, parent=udo)\n",
    "lian = Node({\"hello\": 2}, parent=marc)\n",
    "dan = Node({\"hello\": 3}, parent=udo)\n",
    "jet = Node(\"Jet\", parent=dan)\n",
    "jan = Node(\"Jan\", parent=dan)\n",
    "joe = Node(\"Joe\", parent=dan)"
   ]
  },
  {
   "cell_type": "code",
   "execution_count": 4,
   "metadata": {},
   "outputs": [
    {
     "name": "stdout",
     "output_type": "stream",
     "text": [
      "Udo\n",
      "├── {'hello': 1}\n",
      "│   └── {'hello': 2}\n",
      "└── {'hello': 3}\n",
      "    ├── Jet\n",
      "    ├── Jan\n",
      "    └── Joe\n"
     ]
    }
   ],
   "source": [
    "for pre, fill, node in RenderTree(udo):\n",
    "    print(\"%s%s\" % (pre, node.name))"
   ]
  },
  {
   "cell_type": "code",
   "execution_count": 5,
   "metadata": {},
   "outputs": [],
   "source": [
    "exporter = JsonExporter(indent=2)"
   ]
  },
  {
   "cell_type": "code",
   "execution_count": 6,
   "metadata": {},
   "outputs": [],
   "source": [
    "with open(\"json_file.json\", \"w\") as file:\n",
    "    json = exporter.write(udo, file)"
   ]
  },
  {
   "cell_type": "code",
   "execution_count": 11,
   "metadata": {},
   "outputs": [],
   "source": [
    "importer = JsonImporter()\n",
    "data = \"json_file.json\"\n",
    "with open(data) as file:\n",
    "    root = importer.read(file)"
   ]
  },
  {
   "cell_type": "code",
   "execution_count": 14,
   "metadata": {},
   "outputs": [],
   "source": [
    "imported_tree = RenderTree(root)"
   ]
  },
  {
   "cell_type": "code",
   "execution_count": 23,
   "metadata": {},
   "outputs": [],
   "source": [
    "from anytree import LevelOrderIter"
   ]
  },
  {
   "cell_type": "code",
   "execution_count": 26,
   "metadata": {},
   "outputs": [
    {
     "name": "stdout",
     "output_type": "stream",
     "text": [
      "AnyNode(name='Udo')\n",
      "├── AnyNode(name={'hello': 1})\n",
      "│   └── AnyNode(name={'hello': 2})\n",
      "└── AnyNode(name={'hello': 3})\n",
      "    ├── AnyNode(name='Jet')\n",
      "    ├── AnyNode(name='Jan')\n",
      "    └── AnyNode(name='Joe')\n"
     ]
    }
   ],
   "source": [
    "print(imported_tree)"
   ]
  },
  {
   "cell_type": "code",
   "execution_count": 30,
   "metadata": {},
   "outputs": [
    {
     "name": "stdout",
     "output_type": "stream",
     "text": [
      "AnyNode(name='Udo')\n",
      "AnyNode(name={'hello': 1})\n",
      "AnyNode(name={'hello': 3})\n",
      "AnyNode(name={'hello': 2})\n",
      "AnyNode(name='Jet')\n",
      "AnyNode(name='Jan')\n",
      "AnyNode(name='Joe')\n"
     ]
    }
   ],
   "source": [
    "for node in LevelOrderIter(root):\n",
    "    print(node)"
   ]
  }
 ],
 "metadata": {
  "kernelspec": {
   "display_name": "Python 3",
   "language": "python",
   "name": "python3"
  },
  "language_info": {
   "codemirror_mode": {
    "name": "ipython",
    "version": 3
   },
   "file_extension": ".py",
   "mimetype": "text/x-python",
   "name": "python",
   "nbconvert_exporter": "python",
   "pygments_lexer": "ipython3",
   "version": "3.8.10"
  },
  "orig_nbformat": 4,
  "vscode": {
   "interpreter": {
    "hash": "916dbcbb3f70747c44a77c7bcd40155683ae19c65e1c03b4aa3499c5328201f1"
   }
  }
 },
 "nbformat": 4,
 "nbformat_minor": 2
}
